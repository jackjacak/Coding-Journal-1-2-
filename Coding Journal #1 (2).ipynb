{
 "cells": [
  {
   "cell_type": "code",
   "execution_count": null,
   "id": "ab60388c-d8e5-4c67-b7a8-5306505693d1",
   "metadata": {},
   "outputs": [],
   "source": []
  }
 ],
 "metadata": {
  "kernelspec": {
   "display_name": "",
   "name": ""
  },
  "language_info": {
   "name": ""
  }
 },
 "nbformat": 4,
 "nbformat_minor": 5
}
